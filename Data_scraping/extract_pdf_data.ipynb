{
 "cells": [
  {
   "cell_type": "code",
   "execution_count": null,
   "metadata": {},
   "outputs": [],
   "source": [
    "pip install pymupdf"
   ]
  },
  {
   "cell_type": "markdown",
   "metadata": {},
   "source": [
    "extracting french text data from PDF's."
   ]
  },
  {
   "cell_type": "code",
   "execution_count": 7,
   "metadata": {},
   "outputs": [
    {
     "name": "stdout",
     "output_type": "stream",
     "text": [
      "Extracted French text from Chéri.pdf has been saved to D:/NLP/Assignment-1/TextData/pdf_extracted_data\\output1.txt\n",
      "Extracted French text from Radiguet-diable.pdf has been saved to D:/NLP/Assignment-1/TextData/pdf_extracted_data\\output2.txt\n"
     ]
    }
   ],
   "source": [
    "import fitz  # PyMuPDF for extracting PDF content\n",
    "import re\n",
    "import os\n",
    "\n",
    "# Function to extract French text from a PDF\n",
    "def extract_french_text(pdf_path, output_file):\n",
    "    doc = fitz.open(pdf_path)\n",
    "    \n",
    "    french_text = \"\"\n",
    "    french_pattern = re.compile(r'[a-zA-ZÀ-ÿœŒ]+')\n",
    "\n",
    "    for page_num in range(doc.page_count):\n",
    "        page = doc.load_page(page_num)\n",
    "        text = page.get_text(\"text\")\n",
    "        \n",
    "        french_matches = french_pattern.findall(text)\n",
    "        \n",
    "        french_text += ' '.join(french_matches) + '\\n'\n",
    "\n",
    "    with open(output_file, 'w', encoding='utf-8') as file:\n",
    "        file.write(french_text)\n",
    "\n",
    "def guess_output_file_name(text, index):\n",
    "    author_pattern = re.compile(r'(?i)\\bauthor\\s*:\\s*([^\\r\\n]+)')\n",
    "    \n",
    "    author_match = author_pattern.search(text)\n",
    "    \n",
    "    if author_match:\n",
    "        return f\"{author_match.group(1).strip().replace(' ', '_')}{index}\"\n",
    "    else:\n",
    "        return f\"output{index}\"\n",
    "\n",
    "def process_multiple_pdfs(pdf_folder, output_folder):\n",
    "    pdf_files = [f for f in os.listdir(pdf_folder) if f.endswith('.pdf')]\n",
    "    \n",
    "    for index, pdf_file in enumerate(pdf_files, start=1):\n",
    "        pdf_path = os.path.join(pdf_folder, pdf_file)\n",
    "        \n",
    "        doc = fitz.open(pdf_path)\n",
    "        first_page_text = doc.load_page(0).get_text(\"text\")\n",
    "        \n",
    "        output_file_name = guess_output_file_name(first_page_text, index)\n",
    "        output_file = os.path.join(output_folder, f\"{output_file_name}.txt\")\n",
    "        \n",
    "        extract_french_text(pdf_path, output_file)\n",
    "        \n",
    "        print(f\"Extracted French text from {pdf_file} has been saved to {output_file}\")\n",
    "\n",
    "# Usage\n",
    "pdf_folder = \"D:/NLP/Assignment-1/resources/french_pdfs\" \n",
    "output_folder = \"D:/NLP/Assignment-1/TextData/pdf_extracted_data\"  \n",
    "process_multiple_pdfs(pdf_folder, output_folder)\n"
   ]
  },
  {
   "cell_type": "code",
   "execution_count": null,
   "metadata": {},
   "outputs": [],
   "source": []
  }
 ],
 "metadata": {
  "kernelspec": {
   "display_name": "Python 3",
   "language": "python",
   "name": "python3"
  },
  "language_info": {
   "codemirror_mode": {
    "name": "ipython",
    "version": 3
   },
   "file_extension": ".py",
   "mimetype": "text/x-python",
   "name": "python",
   "nbconvert_exporter": "python",
   "pygments_lexer": "ipython3",
   "version": "3.12.3"
  }
 },
 "nbformat": 4,
 "nbformat_minor": 2
}
