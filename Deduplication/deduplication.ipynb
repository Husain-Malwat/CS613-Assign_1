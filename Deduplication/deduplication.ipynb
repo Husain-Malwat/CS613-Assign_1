{
 "cells": [
  {
   "cell_type": "code",
   "execution_count": 43,
   "metadata": {},
   "outputs": [],
   "source": [
    "import os\n",
    "import pandas as pd"
   ]
  },
  {
   "cell_type": "code",
   "execution_count": 44,
   "metadata": {},
   "outputs": [],
   "source": [
    "# Creating a Pandas DataFrame our our entire Data.\n",
    "path = './Cralwer Code/Raw_Dataset/'\n",
    "folders = os.listdir(path)\n",
    "\n",
    "dataset = {'id': [],\n",
    "      'title': [],\n",
    "      'article': []}\n",
    "i = 1\n",
    "for folder_name in folders:\n",
    "    folder = os.listdir(os.path.join(path,folder_name))\n",
    "    for file_name in folder:\n",
    "      dataset['id'].append(i+1)\n",
    "      i += 1\n",
    "      dataset['title'].append(file_name)\n",
    "      article = open(os.path.join(path,folder_name,file_name),\"r\",encoding = 'utf-8')\n",
    "      dataset['article'].append(article.read())\n",
    "\n",
    "dataset = pd.DataFrame(dataset)"
   ]
  },
  {
   "cell_type": "markdown",
   "metadata": {},
   "source": [
    "#### <i> Using Minimum Hashing</i>"
   ]
  },
  {
   "cell_type": "code",
   "execution_count": 46,
   "metadata": {},
   "outputs": [],
   "source": [
    "from datasketch import MinHash"
   ]
  },
  {
   "cell_type": "code",
   "execution_count": 47,
   "metadata": {},
   "outputs": [],
   "source": [
    "df = dataset\n",
    "df['hash'] = \"None\"\n",
    "for i,article in enumerate(df['article']):\n",
    "    m = MinHash()\n",
    "    for token in article.split():\n",
    "        m.update(token.encode('utf-8'))\n",
    "    df.iloc[i,-1] = m"
   ]
  },
  {
   "cell_type": "code",
   "execution_count": null,
   "metadata": {},
   "outputs": [],
   "source": [
    "print(f\"Length before Deduplication: {len(df)}\")\n",
    "\n",
    "threshold = 0.8\n",
    "\n",
    "index_list =[]\n",
    "\n",
    "for i in range(len(df)):\n",
    "    hash_val = df.iloc[i,-1]\n",
    "\n",
    "    for j in range(len(df)):\n",
    "        if i != j:\n",
    "            similarity = hash_val.jaccard(df.iloc[j,-1])\n",
    "            if similarity > threshold:\n",
    "                index_list.append(df.iloc[j,0])\n",
    "\n",
    "df = df[~df['id'].isin(index_list)]\n",
    "print(f\"Length after Deduplication: {len(df)}\")"
   ]
  },
  {
   "cell_type": "code",
   "execution_count": 49,
   "metadata": {},
   "outputs": [],
   "source": [
    "for i in range(len(df)):\n",
    "    file = open(f\"./Raw_Dataset_1/temp/File{i+1}.txt\",\"w\",encoding=\"utf-8\" )\n",
    "    file.write(df.iloc[i,2])\n",
    "    file.close()"
   ]
  },
  {
   "cell_type": "markdown",
   "metadata": {},
   "source": [
    "#### <i>Using Similarity Hashing </i>"
   ]
  },
  {
   "cell_type": "code",
   "execution_count": 50,
   "metadata": {},
   "outputs": [],
   "source": [
    "from simhash import Simhash"
   ]
  },
  {
   "cell_type": "code",
   "execution_count": 51,
   "metadata": {},
   "outputs": [],
   "source": [
    "df = dataset \n",
    "df['hash'] = None\n",
    "\n",
    "# Calculating Sim Hah for 128 bits.\n",
    "for i,article in enumerate(df['article']):\n",
    "    df.iloc[i,-1] = Simhash(article, f = 128)"
   ]
  },
  {
   "cell_type": "code",
   "execution_count": null,
   "metadata": {},
   "outputs": [],
   "source": [
    "# Calculating Hamming Distance for each value.\n",
    "print(f\"Length before Deduplication: {len(df)}\")\n",
    "\n",
    "threshold = 80\n",
    "\n",
    "index_list =[]\n",
    "\n",
    "for i in range(len(df)):\n",
    "    hash_val = df.iloc[i,-1]\n",
    "\n",
    "    for j in range(len(df)):\n",
    "        if i != j:\n",
    "            similarity = hash_val.distance(df.iloc[j,-1])\n",
    "            if similarity > threshold:\n",
    "                index_list.append(df.iloc[j,0])\n",
    "\n",
    "df = df[~df['id'].isin(index_list)]\n",
    "print(f\"Length after Deduplication: {len(df)}\")"
   ]
  },
  {
   "cell_type": "code",
   "execution_count": 53,
   "metadata": {},
   "outputs": [],
   "source": [
    "for i in range(len(df)):\n",
    "    file = open(f\"./Raw_Dataset_1/temp/File{i+1}.txt\",\"w\",encoding=\"utf-8\" )\n",
    "    file.write(df.iloc[i,2])\n",
    "    file.close()"
   ]
  },
  {
   "cell_type": "markdown",
   "metadata": {},
   "source": [
    "### Using TF-IDF Cosine Similarity"
   ]
  },
  {
   "cell_type": "code",
   "execution_count": 54,
   "metadata": {},
   "outputs": [],
   "source": [
    "from sklearn.feature_extraction.text import TfidfVectorizer\n",
    "from sklearn.metrics.pairwise import cosine_similarity"
   ]
  },
  {
   "cell_type": "code",
   "execution_count": null,
   "metadata": {},
   "outputs": [],
   "source": [
    "df = dataset\n",
    "text = df['article']\n",
    "vectorizer = TfidfVectorizer().fit_transform(text)\n",
    "vectors = vectorizer.toarray()\n",
    "print(vectors.shape)"
   ]
  },
  {
   "cell_type": "code",
   "execution_count": 56,
   "metadata": {},
   "outputs": [],
   "source": [
    "index_list = []\n",
    "threshold = 0.8\n",
    "for i,vector1 in enumerate(vectors):\n",
    "    for j,vector2 in enumerate(vectors):\n",
    "        if i != j:\n",
    "            similarity = cosine_similarity([vector1], [vector2])\n",
    "            if similarity > threshold:\n",
    "                index_list.append(j)"
   ]
  },
  {
   "cell_type": "code",
   "execution_count": null,
   "metadata": {},
   "outputs": [],
   "source": [
    "print(f\"Length before Deduplication:{len(df)}\")\n",
    "df = df[~df['id'].isin(index_list)]\n",
    "print(f\"Length after Deduplication: {len(df)}\")"
   ]
  },
  {
   "cell_type": "code",
   "execution_count": 58,
   "metadata": {},
   "outputs": [],
   "source": [
    "for i in range(len(df)):\n",
    "    file = open(f\"./Raw_Dataset_1/temp/File{i+1}.txt\",\"w\",encoding=\"utf-8\" )\n",
    "    file.write(df.iloc[i,2])\n",
    "    file.close()"
   ]
  },
  {
   "cell_type": "markdown",
   "metadata": {},
   "source": [
    "### Fuzzy "
   ]
  },
  {
   "cell_type": "code",
   "execution_count": 59,
   "metadata": {},
   "outputs": [],
   "source": [
    "# from fuzzywuzzy import fuzz\n",
    "from rapidfuzz import fuzz"
   ]
  },
  {
   "cell_type": "code",
   "execution_count": null,
   "metadata": {},
   "outputs": [],
   "source": [
    "df = dataset\n",
    "\n",
    "text = df['article']\n",
    "index_list =[]\n",
    "threshold = 80\n",
    "\n",
    "for doc1 in range(len(text)):\n",
    "    for doc2 in range(len(text)):\n",
    "        if doc1 != doc2:\n",
    "            similarity = fuzz.ratio(text[doc1],text[doc2])\n",
    "\n",
    "            if similarity > threshold:\n",
    "                index_list.append(doc2)\n",
    "\n",
    "print(len(index_list))"
   ]
  },
  {
   "cell_type": "code",
   "execution_count": null,
   "metadata": {},
   "outputs": [],
   "source": [
    "print(f\"Length before Deduplication:{len(df)}\")\n",
    "df = df[~df['id'].isin(index_list)]\n",
    "print(f\"Length after Deduplication:{len(df)}\")"
   ]
  },
  {
   "cell_type": "code",
   "execution_count": 62,
   "metadata": {},
   "outputs": [],
   "source": [
    "for i in range(len(df)):\n",
    "    file = open(f\"./Raw_Dataset_1/temp/File{i+1}.txt\",\"w\",encoding=\"utf-8\" )\n",
    "    file.write(df.iloc[i,2])\n",
    "    file.close()"
   ]
  }
 ],
 "metadata": {
  "kernelspec": {
   "display_name": "Python 3",
   "language": "python",
   "name": "python3"
  },
  "language_info": {
   "codemirror_mode": {
    "name": "ipython",
    "version": 3
   },
   "file_extension": ".py",
   "mimetype": "text/x-python",
   "name": "python",
   "nbconvert_exporter": "python",
   "pygments_lexer": "ipython3",
   "version": "3.11.6"
  }
 },
 "nbformat": 4,
 "nbformat_minor": 2
}
